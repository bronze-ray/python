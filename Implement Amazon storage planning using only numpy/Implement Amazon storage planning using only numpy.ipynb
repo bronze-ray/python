{
 "cells": [
  {
   "cell_type": "code",
   "execution_count": 7,
   "id": "7a2dca70",
   "metadata": {},
   "outputs": [],
   "source": [
    "import numpy as np  \n",
    "# read file \n",
    "filename='Products.csv'\n",
    "with open(filename, encoding='utf_8') as f:\n",
    "    data=np.loadtxt(f,str,delimiter=',') \n",
    "warenumb= int((sum(1 for row in data)+1)/3)"
   ]
  },
  {
   "cell_type": "markdown",
   "id": "415ab73d",
   "metadata": {},
   "source": [
    "The CSV file contains the quantity and value of goods stored in a total of 300 warehouses\n",
    "1. **Value-Weight Ratio**: \n",
    "   \\[\n",
    "   \\text{Value/Weight Ratio} = \\frac{\\text{Total Value}}{\\text{Total Weight} - (\\text{Distance} \\times \\text{Transportation Cost})}\n",
    "   \\]\n",
    "\n",
    "2. **Warehouse Capacity**:\n",
    "   Each warehouse can hold up to 850 units.\n",
    "\n",
    "3. **Selecting Helper Warehouses**:\n",
    "   Determine the 10 most efficient helper warehouses based on the value-weight ratio when 10 warehouses are out of stock.\n"
   ]
  },
  {
   "cell_type": "code",
   "execution_count": 8,
   "id": "6e274054",
   "metadata": {},
   "outputs": [],
   "source": [
    "#get max value and all \n",
    "totalweight,totalvalue={},{}\n",
    "def get_max_value(warehousenum,data):\n",
    "    weight,totalweightr,totalvaluer,r1,r2={},0,0,0,0\n",
    "    for i in range(1,warenumb+1):\n",
    "        weight,value=np.array(data[3*(i-1)].tolist()).astype(float),np.array(data[3*(i-1)+1].tolist()).astype(float)\n",
    "        weight_ratio = list(enumerate(value/weight, start=0))\n",
    "        sortedratio=sorted(weight_ratio, key=lambda x: x[1], reverse=True)\n",
    "        for m in sortedratio:\n",
    "            totalweightr += float(weight[m[0]])\n",
    "            totalvaluer += float(value[m[0]])\n",
    "            if totalweightr > 850:\n",
    "                totalweightr -= float(weight[m[0]])\n",
    "                totalvaluer -= float(value[m[0]])\n",
    "        totalweight[i],totalvalue[i]=totalweightr,totalvaluer\n",
    "        totalweightr,totalvaluer=0,0\n",
    "    return(totalvalue[warehousenum])\n"
   ]
  },
  {
   "cell_type": "code",
   "execution_count": 9,
   "id": "d9d73b9d",
   "metadata": {},
   "outputs": [
    {
     "name": "stdout",
     "output_type": "stream",
     "text": [
      "the total weight of 300 warehosue is  254131.0\n"
     ]
    }
   ],
   "source": [
    "get_max_value(1,data)\n",
    "t=0\n",
    "for i in range(1,301):\n",
    "    #print('the value of warehouse',i,' is ',totalvalue[i])\n",
    "    t+=totalweight[i]\n",
    "print('the total weight of 300 warehosue is ',t)\n",
    "# Show the warehouse_value I generated"
   ]
  },
  {
   "cell_type": "code",
   "execution_count": 10,
   "id": "846c78fb",
   "metadata": {},
   "outputs": [],
   "source": [
    "# Generate the Distance matrix 300*300\n",
    "distance= np.abs(np.round(np.random.normal(600,400,(300,300))))\n",
    "np.fill_diagonal(distance,0)\n",
    "distance= (distance+ distance.T)/2\n",
    "\n",
    "#save the file in 'Distance.csv'\n",
    "f = open(\"Distances.csv\", \"w\")\n",
    "np.savetxt(f, distance, delimiter=',', fmt='%d')\n",
    "f.close() \n",
    "\n",
    "#Select the Alternative Warehouse (\"Helper\")\n",
    "p = np.random.randint(1,301) \n",
    "outstock = np.append(np.random.randint(1,301,9),p)\n",
    "usefullware= np.setdiff1d(np.arange(1,301),outstock)"
   ]
  },
  {
   "cell_type": "code",
   "execution_count": 11,
   "id": "0346bacd",
   "metadata": {},
   "outputs": [
    {
     "name": "stdout",
     "output_type": "stream",
     "text": [
      "the number 1 helper is warehous 152 with ratio 1.0784433962264148\n",
      "the number 2 helper is warehous 93 with ratio 0.5828941176470586\n",
      "the number 3 helper is warehous 240 with ratio 0.3087491166077738\n",
      "the number 4 helper is warehous 79 with ratio 0.1674823529411762\n",
      "the number 5 helper is warehous 81 with ratio 0.14121933962264133\n",
      "the number 6 helper is warehous 48 with ratio -0.20342991755005846\n",
      "the number 7 helper is warehous 163 with ratio -0.29387410926365853\n",
      "the number 8 helper is warehous 121 with ratio -0.32438823529411764\n",
      "the number 9 helper is warehous 153 with ratio -0.4459529411764711\n",
      "the number 10 helper is warehous 250 with ratio -0.5612122641509436\n"
     ]
    }
   ],
   "source": [
    "Value_Weight_Ratio={}\n",
    "for i in usefullware:\n",
    "    Value_Weight_Ratio[i]=totalvalue[i]/totalweight[i]-0.012*distance[i-1,p-1]\n",
    "sortedratio = sorted(Value_Weight_Ratio.items(), key=lambda x: x[1], reverse=True)\n",
    "for i in range(1,11):\n",
    "    print('the number', i,'helper is warehous',sortedratio[i-1][0],'with ratio',sortedratio[i-1][1])\n"
   ]
  }
 ],
 "metadata": {
  "kernelspec": {
   "display_name": "Python 3 (ipykernel)",
   "language": "python",
   "name": "python3"
  },
  "language_info": {
   "codemirror_mode": {
    "name": "ipython",
    "version": 3
   },
   "file_extension": ".py",
   "mimetype": "text/x-python",
   "name": "python",
   "nbconvert_exporter": "python",
   "pygments_lexer": "ipython3",
   "version": "3.11.6"
  }
 },
 "nbformat": 4,
 "nbformat_minor": 5
}
